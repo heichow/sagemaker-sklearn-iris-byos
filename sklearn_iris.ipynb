{
 "cells": [
  {
   "cell_type": "code",
   "execution_count": 1,
   "metadata": {},
   "outputs": [],
   "source": [
    "import sagemaker\n",
    "\n",
    "# Get a SageMaker-compatible role used by this Notebook Instance.\n",
    "role = sagemaker.get_execution_role()\n",
    "sess = sagemaker.Session()\n",
    "bucket = sess.default_bucket()\n",
    "\n",
    "# S3 prefix\n",
    "prefix = 'scikit-iris'"
   ]
  },
  {
   "cell_type": "code",
   "execution_count": 2,
   "metadata": {},
   "outputs": [],
   "source": [
    "import numpy as np\n",
    "import pandas as pd\n",
    "import os\n",
    "from sklearn import datasets\n",
    "\n",
    "# Load Iris dataset, then join labels and features together\n",
    "iris = datasets.load_iris()\n",
    "joined_iris = np.insert(iris.data, 0, iris.target, axis=1)\n",
    "\n",
    "df = pd.DataFrame(joined_iris, columns = ['label','sepal length (cm)','sepal width (cm)','petal length (cm)','petal width (cm)'])\n",
    "train_data, validation_data, test_data = np.split(df.sample(frac=1, random_state=42), [int(0.6 * len(df)), int(0.8 * len(df))])\n",
    "\n",
    "# Split testing data and label for later model deploy test\n",
    "test_y = test_data.iloc[:,0]\n",
    "test_X = test_data.iloc[:,1:]\n",
    "\n",
    "# Create a temporary directory and write the dataset as CSV\n",
    "os.makedirs('./data', exist_ok=True)\n",
    "#np.savetxt('./data/iris.csv', joined_iris, delimiter=',', fmt='%1.1f, %1.3f, %1.3f, %1.3f, %1.3f')\n",
    "train_data.to_csv('data/train.csv', index=False, header=False)\n",
    "validation_data.to_csv('data/validation.csv', index=False, header=False)\n",
    "test_X.to_csv('data/test.csv', index=False, header=False)"
   ]
  },
  {
   "cell_type": "code",
   "execution_count": 4,
   "metadata": {},
   "outputs": [],
   "source": [
    "# Upload the dataset to S3\n",
    "s3_input_train = sess.upload_data('data/train.csv', bucket=bucket, key_prefix=f'{prefix}/data')\n",
    "s3_input_validation = sess.upload_data('data/validation.csv', bucket=bucket, key_prefix=f'{prefix}/data')\n",
    "s3_input_test = sess.upload_data('data/test.csv', bucket=bucket, key_prefix=f'{prefix}/test')"
   ]
  },
  {
   "cell_type": "markdown",
   "metadata": {},
   "source": [
    "## Training"
   ]
  },
  {
   "cell_type": "markdown",
   "metadata": {},
   "source": [
    "The below script contains both training and inference functionality and can run both in SageMaker Training hardware or locally (desktop, SageMaker notebook, on prem, etc). Detailed guidance here https://sagemaker.readthedocs.io/en/stable/frameworks/sklearn/using_sklearn.html#train-a-model-with-scikit-learn"
   ]
  },
  {
   "cell_type": "code",
   "execution_count": 5,
   "metadata": {},
   "outputs": [
    {
     "name": "stdout",
     "output_type": "stream",
     "text": [
      "2022-06-14 07:37:16 Starting - Starting the training job...\n",
      "2022-06-14 07:37:40 Starting - Preparing the instances for trainingProfilerReport-1655192236: InProgress\n",
      "......\n",
      "2022-06-14 07:38:45 Downloading - Downloading input data\n",
      "2022-06-14 07:38:45 Training - Downloading the training image...\n",
      "2022-06-14 07:39:11 Training - Training image download completed. Training in progress..\u001b[34m2022-06-14 07:39:13,067 sagemaker-containers INFO     Imported framework sagemaker_sklearn_container.training\u001b[0m\n",
      "\u001b[34m2022-06-14 07:39:13,070 sagemaker-training-toolkit INFO     No GPUs detected (normal if no gpus installed)\u001b[0m\n",
      "\u001b[34m2022-06-14 07:39:13,077 sagemaker_sklearn_container.training INFO     Invoking user training script.\u001b[0m\n",
      "\u001b[34m2022-06-14 07:39:13,400 sagemaker-training-toolkit INFO     No GPUs detected (normal if no gpus installed)\u001b[0m\n",
      "\u001b[34m2022-06-14 07:39:13,413 sagemaker-training-toolkit INFO     No GPUs detected (normal if no gpus installed)\u001b[0m\n",
      "\u001b[34m2022-06-14 07:39:13,422 sagemaker-training-toolkit INFO     No GPUs detected (normal if no gpus installed)\u001b[0m\n",
      "\u001b[34m2022-06-14 07:39:13,430 sagemaker-training-toolkit INFO     Invoking user script\u001b[0m\n",
      "\u001b[34mTraining Env:\u001b[0m\n",
      "\u001b[34m{\n",
      "    \"additional_framework_parameters\": {},\n",
      "    \"channel_input_dirs\": {\n",
      "        \"test\": \"/opt/ml/input/data/test\",\n",
      "        \"train\": \"/opt/ml/input/data/train\"\n",
      "    },\n",
      "    \"current_host\": \"algo-1\",\n",
      "    \"framework_module\": \"sagemaker_sklearn_container.training:main\",\n",
      "    \"hosts\": [\n",
      "        \"algo-1\"\n",
      "    ],\n",
      "    \"hyperparameters\": {\n",
      "        \"max_leaf_nodes\": 30\n",
      "    },\n",
      "    \"input_config_dir\": \"/opt/ml/input/config\",\n",
      "    \"input_data_config\": {\n",
      "        \"test\": {\n",
      "            \"TrainingInputMode\": \"File\",\n",
      "            \"S3DistributionType\": \"FullyReplicated\",\n",
      "            \"RecordWrapperType\": \"None\"\n",
      "        },\n",
      "        \"train\": {\n",
      "            \"TrainingInputMode\": \"File\",\n",
      "            \"S3DistributionType\": \"FullyReplicated\",\n",
      "            \"RecordWrapperType\": \"None\"\n",
      "        }\n",
      "    },\n",
      "    \"input_dir\": \"/opt/ml/input\",\n",
      "    \"is_master\": true,\n",
      "    \"job_name\": \"sagemaker-scikit-learn-2022-06-14-07-37-16-552\",\n",
      "    \"log_level\": 20,\n",
      "    \"master_hostname\": \"algo-1\",\n",
      "    \"model_dir\": \"/opt/ml/model\",\n",
      "    \"module_dir\": \"s3://sagemaker-ap-east-1-468208999430/sagemaker-scikit-learn-2022-06-14-07-37-16-552/source/sourcedir.tar.gz\",\n",
      "    \"module_name\": \"sklearn_iris\",\n",
      "    \"network_interface_name\": \"eth0\",\n",
      "    \"num_cpus\": 4,\n",
      "    \"num_gpus\": 0,\n",
      "    \"output_data_dir\": \"/opt/ml/output/data\",\n",
      "    \"output_dir\": \"/opt/ml/output\",\n",
      "    \"output_intermediate_dir\": \"/opt/ml/output/intermediate\",\n",
      "    \"resource_config\": {\n",
      "        \"current_host\": \"algo-1\",\n",
      "        \"current_instance_type\": \"ml.c5.xlarge\",\n",
      "        \"current_group_name\": \"homogeneousCluster\",\n",
      "        \"hosts\": [\n",
      "            \"algo-1\"\n",
      "        ],\n",
      "        \"instance_groups\": [\n",
      "            {\n",
      "                \"instance_group_name\": \"homogeneousCluster\",\n",
      "                \"instance_type\": \"ml.c5.xlarge\",\n",
      "                \"hosts\": [\n",
      "                    \"algo-1\"\n",
      "                ]\n",
      "            }\n",
      "        ],\n",
      "        \"network_interface_name\": \"eth0\"\n",
      "    },\n",
      "    \"user_entry_point\": \"sklearn_iris.py\"\u001b[0m\n",
      "\u001b[34m}\u001b[0m\n",
      "\u001b[34mEnvironment variables:\u001b[0m\n",
      "\u001b[34mSM_HOSTS=[\"algo-1\"]\u001b[0m\n",
      "\u001b[34mSM_NETWORK_INTERFACE_NAME=eth0\u001b[0m\n",
      "\u001b[34mSM_HPS={\"max_leaf_nodes\":30}\u001b[0m\n",
      "\u001b[34mSM_USER_ENTRY_POINT=sklearn_iris.py\u001b[0m\n",
      "\u001b[34mSM_FRAMEWORK_PARAMS={}\u001b[0m\n",
      "\u001b[34mSM_RESOURCE_CONFIG={\"current_group_name\":\"homogeneousCluster\",\"current_host\":\"algo-1\",\"current_instance_type\":\"ml.c5.xlarge\",\"hosts\":[\"algo-1\"],\"instance_groups\":[{\"hosts\":[\"algo-1\"],\"instance_group_name\":\"homogeneousCluster\",\"instance_type\":\"ml.c5.xlarge\"}],\"network_interface_name\":\"eth0\"}\u001b[0m\n",
      "\u001b[34mSM_INPUT_DATA_CONFIG={\"test\":{\"RecordWrapperType\":\"None\",\"S3DistributionType\":\"FullyReplicated\",\"TrainingInputMode\":\"File\"},\"train\":{\"RecordWrapperType\":\"None\",\"S3DistributionType\":\"FullyReplicated\",\"TrainingInputMode\":\"File\"}}\u001b[0m\n",
      "\u001b[34mSM_OUTPUT_DATA_DIR=/opt/ml/output/data\u001b[0m\n",
      "\u001b[34mSM_CHANNELS=[\"test\",\"train\"]\u001b[0m\n",
      "\u001b[34mSM_CURRENT_HOST=algo-1\u001b[0m\n",
      "\u001b[34mSM_MODULE_NAME=sklearn_iris\u001b[0m\n",
      "\u001b[34mSM_LOG_LEVEL=20\u001b[0m\n",
      "\u001b[34mSM_FRAMEWORK_MODULE=sagemaker_sklearn_container.training:main\u001b[0m\n",
      "\u001b[34mSM_INPUT_DIR=/opt/ml/input\u001b[0m\n",
      "\u001b[34mSM_INPUT_CONFIG_DIR=/opt/ml/input/config\u001b[0m\n",
      "\u001b[34mSM_OUTPUT_DIR=/opt/ml/output\u001b[0m\n",
      "\u001b[34mSM_NUM_CPUS=4\u001b[0m\n",
      "\u001b[34mSM_NUM_GPUS=0\u001b[0m\n",
      "\u001b[34mSM_MODEL_DIR=/opt/ml/model\u001b[0m\n",
      "\u001b[34mSM_MODULE_DIR=s3://sagemaker-ap-east-1-468208999430/sagemaker-scikit-learn-2022-06-14-07-37-16-552/source/sourcedir.tar.gz\u001b[0m\n",
      "\u001b[34mSM_TRAINING_ENV={\"additional_framework_parameters\":{},\"channel_input_dirs\":{\"test\":\"/opt/ml/input/data/test\",\"train\":\"/opt/ml/input/data/train\"},\"current_host\":\"algo-1\",\"framework_module\":\"sagemaker_sklearn_container.training:main\",\"hosts\":[\"algo-1\"],\"hyperparameters\":{\"max_leaf_nodes\":30},\"input_config_dir\":\"/opt/ml/input/config\",\"input_data_config\":{\"test\":{\"RecordWrapperType\":\"None\",\"S3DistributionType\":\"FullyReplicated\",\"TrainingInputMode\":\"File\"},\"train\":{\"RecordWrapperType\":\"None\",\"S3DistributionType\":\"FullyReplicated\",\"TrainingInputMode\":\"File\"}},\"input_dir\":\"/opt/ml/input\",\"is_master\":true,\"job_name\":\"sagemaker-scikit-learn-2022-06-14-07-37-16-552\",\"log_level\":20,\"master_hostname\":\"algo-1\",\"model_dir\":\"/opt/ml/model\",\"module_dir\":\"s3://sagemaker-ap-east-1-468208999430/sagemaker-scikit-learn-2022-06-14-07-37-16-552/source/sourcedir.tar.gz\",\"module_name\":\"sklearn_iris\",\"network_interface_name\":\"eth0\",\"num_cpus\":4,\"num_gpus\":0,\"output_data_dir\":\"/opt/ml/output/data\",\"output_dir\":\"/opt/ml/output\",\"output_intermediate_dir\":\"/opt/ml/output/intermediate\",\"resource_config\":{\"current_group_name\":\"homogeneousCluster\",\"current_host\":\"algo-1\",\"current_instance_type\":\"ml.c5.xlarge\",\"hosts\":[\"algo-1\"],\"instance_groups\":[{\"hosts\":[\"algo-1\"],\"instance_group_name\":\"homogeneousCluster\",\"instance_type\":\"ml.c5.xlarge\"}],\"network_interface_name\":\"eth0\"},\"user_entry_point\":\"sklearn_iris.py\"}\u001b[0m\n",
      "\u001b[34mSM_USER_ARGS=[\"--max_leaf_nodes\",\"30\"]\u001b[0m\n",
      "\u001b[34mSM_OUTPUT_INTERMEDIATE_DIR=/opt/ml/output/intermediate\u001b[0m\n",
      "\u001b[34mSM_CHANNEL_TEST=/opt/ml/input/data/test\u001b[0m\n",
      "\u001b[34mSM_CHANNEL_TRAIN=/opt/ml/input/data/train\u001b[0m\n",
      "\u001b[34mSM_HP_MAX_LEAF_NODES=30\u001b[0m\n",
      "\u001b[34mPYTHONPATH=/opt/ml/code:/miniconda3/bin:/miniconda3/lib/python37.zip:/miniconda3/lib/python3.7:/miniconda3/lib/python3.7/lib-dynload:/miniconda3/lib/python3.7/site-packages\u001b[0m\n",
      "\u001b[34mInvoking script with the following command:\u001b[0m\n",
      "\u001b[34m/miniconda3/bin/python sklearn_iris.py --max_leaf_nodes 30\u001b[0m\n",
      "\u001b[34m/miniconda3/lib/python3.7/site-packages/sklearn/externals/joblib/externals/cloudpickle/cloudpickle.py:47: DeprecationWarning: the imp module is deprecated in favour of importlib; see the module's documentation for alternative uses\n",
      "  import imp\u001b[0m\n",
      "\u001b[34mModel Accuracy: 0.9333333333333333\u001b[0m\n",
      "\u001b[34m/miniconda3/lib/python3.7/site-packages/sklearn/externals/joblib/numpy_pickle.py:104: DeprecationWarning: tostring() is deprecated. Use tobytes() instead.\n",
      "  pickler.file_handle.write(chunk.tostring('C'))\u001b[0m\n",
      "\u001b[34m/miniconda3/lib/python3.7/site-packages/sklearn/externals/joblib/numpy_pickle.py:104: DeprecationWarning: tostring() is deprecated. Use tobytes() instead.\n",
      "  pickler.file_handle.write(chunk.tostring('C'))\u001b[0m\n",
      "\u001b[34m/miniconda3/lib/python3.7/site-packages/sklearn/externals/joblib/numpy_pickle.py:104: DeprecationWarning: tostring() is deprecated. Use tobytes() instead.\n",
      "  pickler.file_handle.write(chunk.tostring('C'))\u001b[0m\n",
      "\u001b[34m/miniconda3/lib/python3.7/site-packages/sklearn/externals/joblib/numpy_pickle.py:104: DeprecationWarning: tostring() is deprecated. Use tobytes() instead.\n",
      "  pickler.file_handle.write(chunk.tostring('C'))\u001b[0m\n",
      "\u001b[34m2022-06-14 07:39:14,495 sagemaker-containers INFO     Reporting training SUCCESS\u001b[0m\n",
      "\n",
      "2022-06-14 07:39:41 Uploading - Uploading generated training model\n",
      "2022-06-14 07:39:41 Completed - Training job completed\n",
      "Training seconds: 67\n",
      "Billable seconds: 67\n"
     ]
    }
   ],
   "source": [
    "from sagemaker.sklearn.estimator import SKLearn\n",
    "\n",
    "sklearn_estimator = SKLearn('train.py', #/opt/ml/code/<script file>\n",
    "                  instance_type=\"ml.c5.xlarge\",\n",
    "                  instance_count=1,\n",
    "                  framework_version='0.20.0',\n",
    "                  py_version='py3',\n",
    "                  role=role,\n",
    "                  sagemaker_session=sess,\n",
    "                  metric_definitions=[{\"Name\": \"model_accuracy\", \n",
    "                                       \"Regex\": \"Model Accuracy: ([0-9.]+).*$\"}\n",
    "                                     ],\n",
    "                  hyperparameters={'max_leaf_nodes': 30} \n",
    "                  #/opt/ml/input/config/hyperparameters.json\n",
    "                )\n",
    "\n",
    "sklearn_estimator.fit({\"train\": s3_input_train, \"test\": s3_input_validation})"
   ]
  },
  {
   "cell_type": "markdown",
   "metadata": {},
   "source": [
    "## Deploy an Endpoint "
   ]
  },
  {
   "cell_type": "markdown",
   "metadata": {},
   "source": [
    "Now that we've trained the algorithm on our data, let's deploy a model that's hosted behind a real-time endpoint."
   ]
  },
  {
   "cell_type": "code",
   "execution_count": 6,
   "metadata": {},
   "outputs": [
    {
     "name": "stdout",
     "output_type": "stream",
     "text": [
      "-----!"
     ]
    }
   ],
   "source": [
    "predictor = sklearn_estimator.deploy(initial_instance_count=1, instance_type=\"ml.m5.large\")"
   ]
  },
  {
   "cell_type": "code",
   "execution_count": 7,
   "metadata": {},
   "outputs": [
    {
     "name": "stdout",
     "output_type": "stream",
     "text": [
      "Predictions: [1. 0. 1. 1. 0. 1. 2. 2. 0. 1. 2. 1. 0. 2. 0. 1. 2. 2. 1. 2. 1. 1. 2. 2.\n",
      " 0. 1. 2. 0. 1. 2.]\n",
      "Actual: [1. 0. 1. 1. 0. 1. 2. 2. 0. 1. 2. 2. 0. 2. 0. 1. 2. 2. 1. 2. 1. 1. 2. 2.\n",
      " 0. 1. 2. 0. 1. 2.]\n"
     ]
    }
   ],
   "source": [
    "print(\"Predictions: {}\".format(predictor.predict(test_X.values)))\n",
    "print(\"Actual: {}\".format(test_y.values))"
   ]
  },
  {
   "cell_type": "code",
   "execution_count": 8,
   "metadata": {},
   "outputs": [],
   "source": [
    "predictor.delete_endpoint(delete_endpoint_config=True)"
   ]
  },
  {
   "cell_type": "markdown",
   "metadata": {},
   "source": [
    "## Deploy an Endpoint from Model Data (Optional)"
   ]
  },
  {
   "cell_type": "code",
   "execution_count": 9,
   "metadata": {},
   "outputs": [
    {
     "name": "stdout",
     "output_type": "stream",
     "text": [
      "model.joblib\n"
     ]
    }
   ],
   "source": [
    "# Download the trained model data from S3\n",
    "from sagemaker.s3 import S3Downloader\n",
    "\n",
    "s3_model_path = sklearn_estimator.model_data\n",
    "\n",
    "S3Downloader.download(s3_uri=s3_model_path,\n",
    "                          local_path='./',\n",
    "                          sagemaker_session=sess)\n",
    "\n",
    "#or\n",
    "\n",
    "#import boto3\n",
    "\n",
    "#s3_client = boto3.client('s3')\n",
    "#training_job_name = sklearn_estimator.latest_training_job.name\n",
    "\n",
    "#with open('model.tar.gz', 'wb') as data:\n",
    "#    s3_client.download_fileobj(Bucket=bucket, Key=f'{training_job_name}/output/model.tar.gz', Fileobj=data)\n",
    "\n",
    "!tar -zxvf model.tar.gz"
   ]
  },
  {
   "cell_type": "markdown",
   "metadata": {},
   "source": [
    "### Model Directory Structure\n",
    "\n",
    "The contents of model.tar.gz should be organized as follows:\n",
    "\n",
    "- Model files in the top-level directory\n",
    "- Inference script (and any other source files) in a directory named code/ (for more about the inference script, see The SageMaker Scikit-learn Model Server)\n",
    "- Optional requirements file located at code/requirements.txt (for more about requirements files, see Using third-party libraries)\n",
    "\n",
    "<b>model.tar.gz</b>\n",
    "- model.joblib\n",
    "- code\n",
    "     - inference.py\n",
    "     - requirements.txt\n",
    "\n",
    "### Inference Script function definition \n",
    "- <b>model_fn:</b> Load the model file in model directory (eg. /opt/ml/model/model.pth).\n",
    "- <b>input_fn:</b> Deserialize the Invoke request body into an object we can perform prediction on.\n",
    "- <b>predict_fn:</b> Perform prediction on the deserialized object, with the loaded model.\n",
    "- <b>output_fn:</b> Serialize the prediction result into the desired response content type.\n",
    "\n",
    "https://sagemaker.readthedocs.io/en/stable/frameworks/sklearn/using_sklearn.html#load-a-model"
   ]
  },
  {
   "cell_type": "code",
   "execution_count": 10,
   "metadata": {},
   "outputs": [
    {
     "name": "stdout",
     "output_type": "stream",
     "text": [
      "mkdir: cannot create directory ‘code’: File exists\n",
      "model.joblib\n",
      "code/\n",
      "code/inference.py\n"
     ]
    }
   ],
   "source": [
    "# Package model data and inference script to model.tar.gz\n",
    "!mkdir code\n",
    "!cp inference.py code/\n",
    "!tar -czvf sklearn-model.tar.gz model.joblib code\n",
    "model_path = sess.upload_data(path='sklearn-model.tar.gz', key_prefix=f'{prefix}/models')"
   ]
  },
  {
   "cell_type": "code",
   "execution_count": 11,
   "metadata": {},
   "outputs": [
    {
     "name": "stdout",
     "output_type": "stream",
     "text": [
      "-----!"
     ]
    }
   ],
   "source": [
    "from sagemaker.sklearn.model import SKLearnModel\n",
    "\n",
    "model = SKLearnModel(model_data=model_path,\n",
    "                     framework_version='0.20.0',\n",
    "                     py_version='py3',\n",
    "                     role=role,\n",
    "                     sagemaker_session=sess,\n",
    "                     entry_point='code/inference.py',\n",
    "                    )\n",
    "predictor = model.deploy(initial_instance_count=1, instance_type=\"ml.m5.large\")"
   ]
  },
  {
   "cell_type": "code",
   "execution_count": 12,
   "metadata": {},
   "outputs": [
    {
     "name": "stdout",
     "output_type": "stream",
     "text": [
      "Predictions: [1. 0. 1. 1. 0. 1. 2. 2. 0. 1. 2. 1. 0. 2. 0. 1. 2. 2. 1. 2. 1. 1. 2. 2.\n",
      " 0. 1. 2. 0. 1. 2.]\n",
      "Actual: [1. 0. 1. 1. 0. 1. 2. 2. 0. 1. 2. 2. 0. 2. 0. 1. 2. 2. 1. 2. 1. 1. 2. 2.\n",
      " 0. 1. 2. 0. 1. 2.]\n"
     ]
    }
   ],
   "source": [
    "print(\"Predictions: {}\".format(predictor.predict(test_X.values)))\n",
    "print(\"Actual: {}\".format(test_y.values))"
   ]
  },
  {
   "cell_type": "code",
   "execution_count": 13,
   "metadata": {},
   "outputs": [],
   "source": [
    "predictor.delete_endpoint(delete_endpoint_config=True)"
   ]
  },
  {
   "cell_type": "markdown",
   "metadata": {},
   "source": [
    "## Batch Transform"
   ]
  },
  {
   "cell_type": "code",
   "execution_count": 14,
   "metadata": {},
   "outputs": [],
   "source": [
    "# Define a SKLearn Transformer from the trained SKLearn Estimator\n",
    "transformer = sklearn_estimator.transformer(instance_count=1, instance_type='ml.m5.large')"
   ]
  },
  {
   "cell_type": "code",
   "execution_count": 15,
   "metadata": {},
   "outputs": [
    {
     "name": "stdout",
     "output_type": "stream",
     "text": [
      ".........................\u001b[34mProcessing /opt/ml/code\n",
      "  DEPRECATION: A future pip version will change local packages to be built in-place without first copying to a temporary directory. We recommend you use --use-feature=in-tree-build to test your packages with this new behavior before it becomes the default.\n",
      "   pip 21.3 will remove support for this functionality. You can find discussion regarding this at https://github.com/pypa/pip/issues/7555.\u001b[0m\n",
      "\u001b[34mBuilding wheels for collected packages: sklearn-iris\n",
      "  Building wheel for sklearn-iris (setup.py): started\n",
      "  Building wheel for sklearn-iris (setup.py): finished with status 'done'\n",
      "  Created wheel for sklearn-iris: filename=sklearn_iris-1.0.0-py2.py3-none-any.whl size=5407 sha256=dca24670833023c344aabe7927729b89f8aa8b5fb2844235c44e1361e3b45f37\n",
      "  Stored in directory: /tmp/pip-ephem-wheel-cache-cg7910q4/wheels/3e/0f/51/2f1df833dd0412c1bc2f5ee56baac195b5be563353d111dca6\u001b[0m\n",
      "\u001b[34mSuccessfully built sklearn-iris\u001b[0m\n",
      "\u001b[34mInstalling collected packages: sklearn-iris\u001b[0m\n",
      "\u001b[34mSuccessfully installed sklearn-iris-1.0.0\u001b[0m\n",
      "\u001b[34mWARNING: Running pip as the 'root' user can result in broken permissions and conflicting behaviour with the system package manager. It is recommended to use a virtual environment instead: https://pip.pypa.io/warnings/venv\u001b[0m\n",
      "\u001b[34m/miniconda3/lib/python3.7/site-packages/sklearn/externals/joblib/externals/cloudpickle/cloudpickle.py:47: DeprecationWarning: the imp module is deprecated in favour of importlib; see the module's documentation for alternative uses\n",
      "  import imp\u001b[0m\n",
      "\u001b[34m[2022-06-14 07:49:03 +0000] [31] [INFO] Starting gunicorn 20.1.0\u001b[0m\n",
      "\u001b[34m[2022-06-14 07:49:03 +0000] [31] [INFO] Listening at: unix:/tmp/gunicorn.sock (31)\u001b[0m\n",
      "\u001b[34m[2022-06-14 07:49:03 +0000] [31] [INFO] Using worker: gevent\u001b[0m\n",
      "\u001b[34m[2022-06-14 07:49:03 +0000] [34] [INFO] Booting worker with pid: 34\u001b[0m\n",
      "\u001b[34m[2022-06-14 07:49:03 +0000] [35] [INFO] Booting worker with pid: 35\u001b[0m\n",
      "\u001b[34m2022-06-14 07:49:08,798 INFO - sagemaker-containers - No GPUs detected (normal if no gpus installed)\u001b[0m\n",
      "\u001b[34m/miniconda3/lib/python3.7/site-packages/sklearn/externals/joblib/externals/cloudpickle/cloudpickle.py:47: DeprecationWarning: the imp module is deprecated in favour of importlib; see the module's documentation for alternative uses\n",
      "  import imp\u001b[0m\n",
      "\u001b[34m169.254.255.130 - - [14/Jun/2022:07:49:09 +0000] \"GET /ping HTTP/1.1\" 200 0 \"-\" \"Go-http-client/1.1\"\u001b[0m\n",
      "\u001b[34m169.254.255.130 - - [14/Jun/2022:07:49:09 +0000] \"GET /execution-parameters HTTP/1.1\" 404 232 \"-\" \"Go-http-client/1.1\"\u001b[0m\n",
      "\u001b[34m169.254.255.130 - - [14/Jun/2022:07:49:09 +0000] \"POST /invocations HTTP/1.1\" 200 150 \"-\" \"Go-http-client/1.1\"\u001b[0m\n",
      "\u001b[35m169.254.255.130 - - [14/Jun/2022:07:49:09 +0000] \"POST /invocations HTTP/1.1\" 200 150 \"-\" \"Go-http-client/1.1\"\u001b[0m\n",
      "\u001b[32m2022-06-14T07:49:09.367:[sagemaker logs]: MaxConcurrentTransforms=1, MaxPayloadInMB=6, BatchStrategy=MULTI_RECORD\u001b[0m\n",
      "\n",
      "Waiting for transform job: sagemaker-scikit-learn-2022-06-14-07-45-02-164\n",
      "\u001b[34mProcessing /opt/ml/code\n",
      "  DEPRECATION: A future pip version will change local packages to be built in-place without first copying to a temporary directory. We recommend you use --use-feature=in-tree-build to test your packages with this new behavior before it becomes the default.\n",
      "   pip 21.3 will remove support for this functionality. You can find discussion regarding this at https://github.com/pypa/pip/issues/7555.\u001b[0m\n",
      "\u001b[35mProcessing /opt/ml/code\n",
      "  DEPRECATION: A future pip version will change local packages to be built in-place without first copying to a temporary directory. We recommend you use --use-feature=in-tree-build to test your packages with this new behavior before it becomes the default.\n",
      "   pip 21.3 will remove support for this functionality. You can find discussion regarding this at https://github.com/pypa/pip/issues/7555.\u001b[0m\n",
      "\u001b[34mBuilding wheels for collected packages: sklearn-iris\n",
      "  Building wheel for sklearn-iris (setup.py): started\n",
      "  Building wheel for sklearn-iris (setup.py): finished with status 'done'\n",
      "  Created wheel for sklearn-iris: filename=sklearn_iris-1.0.0-py2.py3-none-any.whl size=5407 sha256=dca24670833023c344aabe7927729b89f8aa8b5fb2844235c44e1361e3b45f37\n",
      "  Stored in directory: /tmp/pip-ephem-wheel-cache-cg7910q4/wheels/3e/0f/51/2f1df833dd0412c1bc2f5ee56baac195b5be563353d111dca6\u001b[0m\n",
      "\u001b[34mSuccessfully built sklearn-iris\u001b[0m\n",
      "\u001b[34mInstalling collected packages: sklearn-iris\u001b[0m\n",
      "\u001b[34mSuccessfully installed sklearn-iris-1.0.0\u001b[0m\n",
      "\u001b[34mWARNING: Running pip as the 'root' user can result in broken permissions and conflicting behaviour with the system package manager. It is recommended to use a virtual environment instead: https://pip.pypa.io/warnings/venv\u001b[0m\n",
      "\u001b[34m/miniconda3/lib/python3.7/site-packages/sklearn/externals/joblib/externals/cloudpickle/cloudpickle.py:47: DeprecationWarning: the imp module is deprecated in favour of importlib; see the module's documentation for alternative uses\n",
      "  import imp\u001b[0m\n",
      "\u001b[34m[2022-06-14 07:49:03 +0000] [31] [INFO] Starting gunicorn 20.1.0\u001b[0m\n",
      "\u001b[34m[2022-06-14 07:49:03 +0000] [31] [INFO] Listening at: unix:/tmp/gunicorn.sock (31)\u001b[0m\n",
      "\u001b[34m[2022-06-14 07:49:03 +0000] [31] [INFO] Using worker: gevent\u001b[0m\n",
      "\u001b[34m[2022-06-14 07:49:03 +0000] [34] [INFO] Booting worker with pid: 34\u001b[0m\n",
      "\u001b[34m[2022-06-14 07:49:03 +0000] [35] [INFO] Booting worker with pid: 35\u001b[0m\n",
      "\u001b[35mBuilding wheels for collected packages: sklearn-iris\n",
      "  Building wheel for sklearn-iris (setup.py): started\n",
      "  Building wheel for sklearn-iris (setup.py): finished with status 'done'\n",
      "  Created wheel for sklearn-iris: filename=sklearn_iris-1.0.0-py2.py3-none-any.whl size=5407 sha256=dca24670833023c344aabe7927729b89f8aa8b5fb2844235c44e1361e3b45f37\n",
      "  Stored in directory: /tmp/pip-ephem-wheel-cache-cg7910q4/wheels/3e/0f/51/2f1df833dd0412c1bc2f5ee56baac195b5be563353d111dca6\u001b[0m\n",
      "\u001b[35mSuccessfully built sklearn-iris\u001b[0m\n",
      "\u001b[35mInstalling collected packages: sklearn-iris\u001b[0m\n",
      "\u001b[35mSuccessfully installed sklearn-iris-1.0.0\u001b[0m\n",
      "\u001b[35mWARNING: Running pip as the 'root' user can result in broken permissions and conflicting behaviour with the system package manager. It is recommended to use a virtual environment instead: https://pip.pypa.io/warnings/venv\u001b[0m\n",
      "\u001b[35m/miniconda3/lib/python3.7/site-packages/sklearn/externals/joblib/externals/cloudpickle/cloudpickle.py:47: DeprecationWarning: the imp module is deprecated in favour of importlib; see the module's documentation for alternative uses\n",
      "  import imp\u001b[0m\n",
      "\u001b[35m[2022-06-14 07:49:03 +0000] [31] [INFO] Starting gunicorn 20.1.0\u001b[0m\n",
      "\u001b[35m[2022-06-14 07:49:03 +0000] [31] [INFO] Listening at: unix:/tmp/gunicorn.sock (31)\u001b[0m\n",
      "\u001b[35m[2022-06-14 07:49:03 +0000] [31] [INFO] Using worker: gevent\u001b[0m\n",
      "\u001b[35m[2022-06-14 07:49:03 +0000] [34] [INFO] Booting worker with pid: 34\u001b[0m\n",
      "\u001b[35m[2022-06-14 07:49:03 +0000] [35] [INFO] Booting worker with pid: 35\u001b[0m\n",
      "\u001b[34m2022-06-14 07:49:08,798 INFO - sagemaker-containers - No GPUs detected (normal if no gpus installed)\u001b[0m\n",
      "\u001b[34m/miniconda3/lib/python3.7/site-packages/sklearn/externals/joblib/externals/cloudpickle/cloudpickle.py:47: DeprecationWarning: the imp module is deprecated in favour of importlib; see the module's documentation for alternative uses\n",
      "  import imp\u001b[0m\n",
      "\u001b[34m169.254.255.130 - - [14/Jun/2022:07:49:09 +0000] \"GET /ping HTTP/1.1\" 200 0 \"-\" \"Go-http-client/1.1\"\u001b[0m\n",
      "\u001b[34m169.254.255.130 - - [14/Jun/2022:07:49:09 +0000] \"GET /execution-parameters HTTP/1.1\" 404 232 \"-\" \"Go-http-client/1.1\"\u001b[0m\n",
      "\u001b[35m2022-06-14 07:49:08,798 INFO - sagemaker-containers - No GPUs detected (normal if no gpus installed)\u001b[0m\n",
      "\u001b[35m/miniconda3/lib/python3.7/site-packages/sklearn/externals/joblib/externals/cloudpickle/cloudpickle.py:47: DeprecationWarning: the imp module is deprecated in favour of importlib; see the module's documentation for alternative uses\n",
      "  import imp\u001b[0m\n",
      "\u001b[35m169.254.255.130 - - [14/Jun/2022:07:49:09 +0000] \"GET /ping HTTP/1.1\" 200 0 \"-\" \"Go-http-client/1.1\"\u001b[0m\n",
      "\u001b[35m169.254.255.130 - - [14/Jun/2022:07:49:09 +0000] \"GET /execution-parameters HTTP/1.1\" 404 232 \"-\" \"Go-http-client/1.1\"\u001b[0m\n",
      "\u001b[34m169.254.255.130 - - [14/Jun/2022:07:49:09 +0000] \"POST /invocations HTTP/1.1\" 200 150 \"-\" \"Go-http-client/1.1\"\u001b[0m\n",
      "\u001b[35m169.254.255.130 - - [14/Jun/2022:07:49:09 +0000] \"POST /invocations HTTP/1.1\" 200 150 \"-\" \"Go-http-client/1.1\"\u001b[0m\n",
      "\u001b[32m2022-06-14T07:49:09.367:[sagemaker logs]: MaxConcurrentTransforms=1, MaxPayloadInMB=6, BatchStrategy=MULTI_RECORD\u001b[0m\n"
     ]
    }
   ],
   "source": [
    "# Start a transform job and wait for it to finish\n",
    "transformer.transform(s3_input_test, content_type='text/csv')\n",
    "print('Waiting for transform job: ' + transformer.latest_transform_job.job_name)\n",
    "transformer.wait()"
   ]
  },
  {
   "cell_type": "code",
   "execution_count": 16,
   "metadata": {},
   "outputs": [
    {
     "name": "stdout",
     "output_type": "stream",
     "text": [
      "download: s3://sagemaker-ap-east-1-468208999430/sagemaker-scikit-learn-2022-06-14-07-45-02-164/test.csv.out to batch_data/test.csv.out\n"
     ]
    }
   ],
   "source": [
    "# Download the output data from S3 to local filesystem\n",
    "batch_output = transformer.output_path\n",
    "!aws s3 cp --recursive $batch_output/ batch_data/"
   ]
  },
  {
   "cell_type": "markdown",
   "metadata": {},
   "source": [
    "## Automatic model Tuning (optional)"
   ]
  },
  {
   "cell_type": "code",
   "execution_count": 19,
   "metadata": {},
   "outputs": [],
   "source": [
    "from sagemaker.tuner import IntegerParameter, CategoricalParameter, ContinuousParameter, HyperparameterTuner\n",
    "\n",
    "hyperparameter_ranges = {\"max_leaf_nodes\": IntegerParameter(5, 100)}\n",
    "objective_metric_name = 'model_accuracy'\n",
    "\n",
    "tuner = HyperparameterTuner(sklearn_estimator,\n",
    "                            objective_metric_name,\n",
    "                            hyperparameter_ranges,\n",
    "                            metric_definitions=[{\"Name\": \"model_accuracy\", \n",
    "                                                 \"Regex\": \"Model Accuracy: ([0-9.]+).*$\"}],\n",
    "                            objective_type='Maximize',\n",
    "                            max_jobs=9,\n",
    "                            max_parallel_jobs=3)\n",
    "\n",
    "tuner.fit({'train': s3_input_train, 'test': s3_input_validation}, wait=False) #wait=False to set async training job"
   ]
  },
  {
   "cell_type": "code",
   "execution_count": 20,
   "metadata": {},
   "outputs": [
    {
     "name": "stdout",
     "output_type": "stream",
     "text": [
      "............................................................................................!\n"
     ]
    }
   ],
   "source": [
    "# Wait for the Hyperparameter Tuning Job to be completed\n",
    "\n",
    "tuner.wait()\n",
    "\n",
    "#or\n",
    "\n",
    "#tuner.logs()\n",
    "\n",
    "#or\n",
    "\n",
    "#tuning_job_name = sklearn_estimator.latest_training_job.name\n",
    "#sess.wait_for_tuning_job(tuner.latest_tuning_job.name)"
   ]
  },
  {
   "cell_type": "code",
   "execution_count": 21,
   "metadata": {},
   "outputs": [
    {
     "data": {
      "text/plain": [
       "'sagemaker-scikit-lea-220614-1026-002-281e67ea'"
      ]
     },
     "execution_count": 21,
     "metadata": {},
     "output_type": "execute_result"
    }
   ],
   "source": [
    "# return the best training job name\n",
    "tuner.best_training_job()"
   ]
  },
  {
   "cell_type": "code",
   "execution_count": 22,
   "metadata": {},
   "outputs": [
    {
     "name": "stdout",
     "output_type": "stream",
     "text": [
      "\n",
      "2022-06-14 10:29:00 Starting - Preparing the instances for training\n",
      "2022-06-14 10:29:00 Downloading - Downloading input data\n",
      "2022-06-14 10:29:00 Training - Training image download completed. Training in progress.\n",
      "2022-06-14 10:29:00 Uploading - Uploading generated training model\n",
      "2022-06-14 10:29:00 Completed - Training job completed\n",
      "----!"
     ]
    }
   ],
   "source": [
    "# Deploy the best trained or user specified model to an Amazon SageMaker endpoint\n",
    "tuner_predictor = tuner.deploy(initial_instance_count=1, instance_type='ml.m5.xlarge')"
   ]
  },
  {
   "cell_type": "code",
   "execution_count": 23,
   "metadata": {},
   "outputs": [
    {
     "name": "stdout",
     "output_type": "stream",
     "text": [
      "Predictions: [1. 0. 1. 1. 0. 1. 2. 2. 0. 1. 2. 1. 0. 2. 0. 1. 2. 2. 1. 2. 1. 1. 2. 2.\n",
      " 0. 1. 2. 0. 1. 2.]\n",
      "Actual: [1. 0. 1. 1. 0. 1. 2. 2. 0. 1. 2. 2. 0. 2. 0. 1. 2. 2. 1. 2. 1. 1. 2. 2.\n",
      " 0. 1. 2. 0. 1. 2.]\n"
     ]
    }
   ],
   "source": [
    "# Deploy the best one and predict\n",
    "print(\"Predictions: {}\".format(tuner_predictor.predict(test_X.values)))\n",
    "print(\"Actual: {}\".format(test_y.values))"
   ]
  },
  {
   "cell_type": "code",
   "execution_count": 24,
   "metadata": {},
   "outputs": [],
   "source": [
    "tuner_predictor.delete_endpoint(delete_endpoint_config=True)"
   ]
  },
  {
   "cell_type": "code",
   "execution_count": null,
   "metadata": {},
   "outputs": [],
   "source": []
  }
 ],
 "metadata": {
  "instance_type": "ml.c5.large",
  "kernelspec": {
   "display_name": "Python 3 (Data Science)",
   "language": "python",
   "name": "python3__SAGEMAKER_INTERNAL__arn:aws:sagemaker:ap-east-1:493642496378:image/datascience-1.0"
  },
  "language_info": {
   "codemirror_mode": {
    "name": "ipython",
    "version": 3
   },
   "file_extension": ".py",
   "mimetype": "text/x-python",
   "name": "python",
   "nbconvert_exporter": "python",
   "pygments_lexer": "ipython3",
   "version": "3.7.10"
  }
 },
 "nbformat": 4,
 "nbformat_minor": 4
}
