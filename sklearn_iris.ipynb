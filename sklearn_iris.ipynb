{
 "cells": [
  {
   "cell_type": "code",
   "execution_count": null,
   "metadata": {},
   "outputs": [],
   "source": [
    "import sagemaker\n",
    "\n",
    "# Get a SageMaker-compatible role used by this Notebook Instance.\n",
    "role = sagemaker.get_execution_role()\n",
    "sess = sagemaker.Session()\n",
    "bucket = sagemaker_session.default_bucket()\n",
    "\n",
    "# S3 prefix\n",
    "prefix = 'scikit-iris'"
   ]
  },
  {
   "cell_type": "code",
   "execution_count": 2,
   "metadata": {},
   "outputs": [],
   "source": [
    "import numpy as np\n",
    "import pandas as pd\n",
    "import os\n",
    "from sklearn import datasets\n",
    "\n",
    "# Load Iris dataset, then join labels and features together\n",
    "iris = datasets.load_iris()\n",
    "joined_iris = np.insert(iris.data, 0, iris.target, axis=1)\n",
    "\n",
    "df = pd.DataFrame(joined_iris, columns = ['label','sepal length (cm)','sepal width (cm)','petal length (cm)','petal width (cm)'])\n",
    "train_data, validation_data, test_data = np.split(df.sample(frac=1, random_state=42), [int(0.6 * len(df)), int(0.8 * len(df))])\n",
    "\n",
    "# Create a temporary directory and write the dataset as CSV\n",
    "os.makedirs('./data', exist_ok=True)\n",
    "#np.savetxt('./data/iris.csv', joined_iris, delimiter=',', fmt='%1.1f, %1.3f, %1.3f, %1.3f, %1.3f')\n",
    "train_data.to_csv('data/train.csv', index=False, header=False)\n",
    "validation_data.to_csv('data/validation.csv', index=False, header=False)\n",
    "test_data.to_csv('data/test.csv', index=False, header=False)"
   ]
  },
  {
   "cell_type": "code",
   "execution_count": 21,
   "metadata": {},
   "outputs": [],
   "source": [
    "# Split testing data and label for later model deploy test\n",
    "test_y = test_data.iloc[:,0]\n",
    "test_X = test_data.iloc[:,1:]"
   ]
  },
  {
   "cell_type": "code",
   "execution_count": null,
   "metadata": {},
   "outputs": [],
   "source": [
    "# Upload the dataset to S3\n",
    "s3_input_train = sess.upload_data('data/train.csv', bucket=bucket, key_prefix=f'{prefix}/data')\n",
    "s3_input_validation = sess.upload_data('data/validation.csv', bucket=bucket, key_prefix=f'{prefix}/data')\n",
    "s3_input_test = sess.upload_data('data/test.csv', bucket=bucket, key_prefix=f'{prefix}/test')"
   ]
  },
  {
   "cell_type": "markdown",
   "metadata": {},
   "source": [
    "## Training"
   ]
  },
  {
   "cell_type": "markdown",
   "metadata": {},
   "source": [
    "The below script contains both training and inference functionality and can run both in SageMaker Training hardware or locally (desktop, SageMaker notebook, on prem, etc). Detailed guidance here https://sagemaker.readthedocs.io/en/stable/frameworks/sklearn/using_sklearn.html#train-a-model-with-scikit-learn"
   ]
  },
  {
   "cell_type": "code",
   "execution_count": 9,
   "metadata": {},
   "outputs": [
    {
     "ename": "NameError",
     "evalue": "name 'role' is not defined",
     "output_type": "error",
     "traceback": [
      "\u001b[0;31m---------------------------------------------------------------------------\u001b[0m",
      "\u001b[0;31mNameError\u001b[0m                                 Traceback (most recent call last)",
      "Input \u001b[0;32mIn [9]\u001b[0m, in \u001b[0;36m<cell line: 3>\u001b[0;34m()\u001b[0m\n\u001b[1;32m      1\u001b[0m \u001b[38;5;28;01mfrom\u001b[39;00m \u001b[38;5;21;01msagemaker\u001b[39;00m\u001b[38;5;21;01m.\u001b[39;00m\u001b[38;5;21;01msklearn\u001b[39;00m\u001b[38;5;21;01m.\u001b[39;00m\u001b[38;5;21;01mestimator\u001b[39;00m \u001b[38;5;28;01mimport\u001b[39;00m SKLearn\n\u001b[1;32m      3\u001b[0m sklearn \u001b[38;5;241m=\u001b[39m SKLearn(\u001b[38;5;124m'\u001b[39m\u001b[38;5;124mscikit_learn_iris.py\u001b[39m\u001b[38;5;124m'\u001b[39m, \u001b[38;5;66;03m#/opt/ml/code/<script file>\u001b[39;00m\n\u001b[1;32m      4\u001b[0m                   \u001b[38;5;66;03m#instance_type=\"ml.c5.xlarge\",\u001b[39;00m\n\u001b[1;32m      5\u001b[0m                   instance_type\u001b[38;5;241m=\u001b[39m\u001b[38;5;124m'\u001b[39m\u001b[38;5;124mlocal\u001b[39m\u001b[38;5;124m'\u001b[39m,\n\u001b[1;32m      6\u001b[0m                   instance_count\u001b[38;5;241m=\u001b[39m\u001b[38;5;241m1\u001b[39m,\n\u001b[1;32m      7\u001b[0m                   framework_version\u001b[38;5;241m=\u001b[39m\u001b[38;5;124m'\u001b[39m\u001b[38;5;124m0.20.0\u001b[39m\u001b[38;5;124m'\u001b[39m,\n\u001b[1;32m      8\u001b[0m                   py_version\u001b[38;5;241m=\u001b[39m\u001b[38;5;124m'\u001b[39m\u001b[38;5;124mpy3\u001b[39m\u001b[38;5;124m'\u001b[39m,\n\u001b[0;32m----> 9\u001b[0m                   role\u001b[38;5;241m=\u001b[39m\u001b[43mrole\u001b[49m,\n\u001b[1;32m     10\u001b[0m                   sagemaker_session\u001b[38;5;241m=\u001b[39msess,\n\u001b[1;32m     11\u001b[0m                   metric_definitions\u001b[38;5;241m=\u001b[39m[{\u001b[38;5;124m\"\u001b[39m\u001b[38;5;124mName\u001b[39m\u001b[38;5;124m\"\u001b[39m: \u001b[38;5;124m\"\u001b[39m\u001b[38;5;124mmodel_accuracy\u001b[39m\u001b[38;5;124m\"\u001b[39m, \n\u001b[1;32m     12\u001b[0m                                        \u001b[38;5;124m\"\u001b[39m\u001b[38;5;124mRegex\u001b[39m\u001b[38;5;124m\"\u001b[39m: \u001b[38;5;124m\"\u001b[39m\u001b[38;5;124mModel Accuracy: ([0-9.]+).*$\u001b[39m\u001b[38;5;124m\"\u001b[39m}\n\u001b[1;32m     13\u001b[0m                                      ],\n\u001b[1;32m     14\u001b[0m                   hyperparameters\u001b[38;5;241m=\u001b[39m{\u001b[38;5;124m'\u001b[39m\u001b[38;5;124mmax_leaf_nodes\u001b[39m\u001b[38;5;124m'\u001b[39m: \u001b[38;5;241m30\u001b[39m} \n\u001b[1;32m     15\u001b[0m                   \u001b[38;5;66;03m#/opt/ml/input/config/hyperparameters.json\u001b[39;00m\n\u001b[1;32m     16\u001b[0m                 )\n\u001b[1;32m     18\u001b[0m sklearn\u001b[38;5;241m.\u001b[39mfit({\u001b[38;5;124m\"\u001b[39m\u001b[38;5;124mtrain\u001b[39m\u001b[38;5;124m\"\u001b[39m: \u001b[38;5;124m'\u001b[39m\u001b[38;5;124mfile:////Users/heichow/Qsync/AWS/Demo/sagemaker-sklearn-iris-byos/data/train.csv\u001b[39m\u001b[38;5;124m'\u001b[39m, \n\u001b[1;32m     19\u001b[0m              \u001b[38;5;124m\"\u001b[39m\u001b[38;5;124mtest\u001b[39m\u001b[38;5;124m\"\u001b[39m: \u001b[38;5;124m'\u001b[39m\u001b[38;5;124mfile:////Users/heichow/Qsync/AWS/Demo/sagemaker-sklearn-iris-byos/data/validation.csv\u001b[39m\u001b[38;5;124m'\u001b[39m})\n",
      "\u001b[0;31mNameError\u001b[0m: name 'role' is not defined"
     ]
    }
   ],
   "source": [
    "from sagemaker.sklearn.estimator import SKLearn\n",
    "\n",
    "sklearn_estimator = SKLearn('sklearn_iris.py', #/opt/ml/code/<script file>\n",
    "                  instance_type=\"ml.c5.xlarge\",\n",
    "                  instance_count=1,\n",
    "                  framework_version='0.20.0',\n",
    "                  py_version='py3',\n",
    "                  role=role,\n",
    "                  sagemaker_session=sess,\n",
    "                  metric_definitions=[{\"Name\": \"model_accuracy\", \n",
    "                                       \"Regex\": \"Model Accuracy: ([0-9.]+).*$\"}\n",
    "                                     ],\n",
    "                  hyperparameters={'max_leaf_nodes': 30} \n",
    "                  #/opt/ml/input/config/hyperparameters.json\n",
    "                )\n",
    "\n",
    "sklearn_estimator.fit({\"train\": s3_input_train, \"test\": s3_input_validation})"
   ]
  },
  {
   "cell_type": "code",
   "execution_count": 84,
   "metadata": {},
   "outputs": [
    {
     "name": "stdout",
     "output_type": "stream",
     "text": [
      "2022-06-01 05:39:34 Starting - Starting the training job...\n",
      "2022-06-01 05:39:59 Starting - Preparing the instances for trainingProfilerReport-1654061974: InProgress\n",
      "......\n",
      "2022-06-01 05:41:00 Downloading - Downloading input data...\n",
      "2022-06-01 05:41:20 Training - Downloading the training image.\u001b[34m2022-06-01 05:41:37,456 sagemaker-containers INFO     Imported framework sagemaker_sklearn_container.training\u001b[0m\n",
      "\u001b[34m2022-06-01 05:41:37,458 sagemaker-training-toolkit INFO     No GPUs detected (normal if no gpus installed)\u001b[0m\n",
      "\u001b[34m2022-06-01 05:41:37,471 sagemaker_sklearn_container.training INFO     Invoking user training script.\u001b[0m\n",
      "\u001b[34m2022-06-01 05:41:37,809 sagemaker-training-toolkit INFO     No GPUs detected (normal if no gpus installed)\u001b[0m\n",
      "\u001b[34m2022-06-01 05:41:37,823 sagemaker-training-toolkit INFO     No GPUs detected (normal if no gpus installed)\u001b[0m\n",
      "\u001b[34m2022-06-01 05:41:37,835 sagemaker-training-toolkit INFO     No GPUs detected (normal if no gpus installed)\u001b[0m\n",
      "\u001b[34m2022-06-01 05:41:37,843 sagemaker-training-toolkit INFO     Invoking user script\u001b[0m\n",
      "\u001b[34mTraining Env:\u001b[0m\n",
      "\u001b[34m{\n",
      "    \"additional_framework_parameters\": {},\n",
      "    \"channel_input_dirs\": {\n",
      "        \"test\": \"/opt/ml/input/data/test\",\n",
      "        \"train\": \"/opt/ml/input/data/train\"\n",
      "    },\n",
      "    \"current_host\": \"algo-1\",\n",
      "    \"framework_module\": \"sagemaker_sklearn_container.training:main\",\n",
      "    \"hosts\": [\n",
      "        \"algo-1\"\n",
      "    ],\n",
      "    \"hyperparameters\": {\n",
      "        \"max_leaf_nodes\": 30\n",
      "    },\n",
      "    \"input_config_dir\": \"/opt/ml/input/config\",\n",
      "    \"input_data_config\": {\n",
      "        \"test\": {\n",
      "            \"TrainingInputMode\": \"File\",\n",
      "            \"S3DistributionType\": \"FullyReplicated\",\n",
      "            \"RecordWrapperType\": \"None\"\n",
      "        },\n",
      "        \"train\": {\n",
      "            \"TrainingInputMode\": \"File\",\n",
      "            \"S3DistributionType\": \"FullyReplicated\",\n",
      "            \"RecordWrapperType\": \"None\"\n",
      "        }\n",
      "    },\n",
      "    \"input_dir\": \"/opt/ml/input\",\n",
      "    \"is_master\": true,\n",
      "    \"job_name\": \"sagemaker-scikit-learn-2022-06-01-05-39-34-084\",\n",
      "    \"log_level\": 20,\n",
      "    \"master_hostname\": \"algo-1\",\n",
      "    \"model_dir\": \"/opt/ml/model\",\n",
      "    \"module_dir\": \"s3://sagemaker-ap-east-1-468208999430/sagemaker-scikit-learn-2022-06-01-05-39-34-084/source/sourcedir.tar.gz\",\n",
      "    \"module_name\": \"scikit_learn_iris\",\n",
      "    \"network_interface_name\": \"eth0\",\n",
      "    \"num_cpus\": 4,\n",
      "    \"num_gpus\": 0,\n",
      "    \"output_data_dir\": \"/opt/ml/output/data\",\n",
      "    \"output_dir\": \"/opt/ml/output\",\n",
      "    \"output_intermediate_dir\": \"/opt/ml/output/intermediate\",\n",
      "    \"resource_config\": {\n",
      "        \"current_host\": \"algo-1\",\n",
      "        \"current_instance_type\": \"ml.c5.xlarge\",\n",
      "        \"current_group_name\": \"homogeneousCluster\",\n",
      "        \"hosts\": [\n",
      "            \"algo-1\"\n",
      "        ],\n",
      "        \"instance_groups\": [\n",
      "            {\n",
      "                \"instance_group_name\": \"homogeneousCluster\",\n",
      "                \"instance_type\": \"ml.c5.xlarge\",\n",
      "                \"hosts\": [\n",
      "                    \"algo-1\"\n",
      "                ]\n",
      "            }\n",
      "        ],\n",
      "        \"network_interface_name\": \"eth0\"\n",
      "    },\n",
      "    \"user_entry_point\": \"scikit_learn_iris.py\"\u001b[0m\n",
      "\u001b[34m}\u001b[0m\n",
      "\u001b[34mEnvironment variables:\u001b[0m\n",
      "\u001b[34mSM_HOSTS=[\"algo-1\"]\u001b[0m\n",
      "\u001b[34mSM_NETWORK_INTERFACE_NAME=eth0\u001b[0m\n",
      "\u001b[34mSM_HPS={\"max_leaf_nodes\":30}\u001b[0m\n",
      "\u001b[34mSM_USER_ENTRY_POINT=scikit_learn_iris.py\u001b[0m\n",
      "\u001b[34mSM_FRAMEWORK_PARAMS={}\u001b[0m\n",
      "\u001b[34mSM_RESOURCE_CONFIG={\"current_group_name\":\"homogeneousCluster\",\"current_host\":\"algo-1\",\"current_instance_type\":\"ml.c5.xlarge\",\"hosts\":[\"algo-1\"],\"instance_groups\":[{\"hosts\":[\"algo-1\"],\"instance_group_name\":\"homogeneousCluster\",\"instance_type\":\"ml.c5.xlarge\"}],\"network_interface_name\":\"eth0\"}\u001b[0m\n",
      "\u001b[34mSM_INPUT_DATA_CONFIG={\"test\":{\"RecordWrapperType\":\"None\",\"S3DistributionType\":\"FullyReplicated\",\"TrainingInputMode\":\"File\"},\"train\":{\"RecordWrapperType\":\"None\",\"S3DistributionType\":\"FullyReplicated\",\"TrainingInputMode\":\"File\"}}\u001b[0m\n",
      "\u001b[34mSM_OUTPUT_DATA_DIR=/opt/ml/output/data\u001b[0m\n",
      "\u001b[34mSM_CHANNELS=[\"test\",\"train\"]\u001b[0m\n",
      "\u001b[34mSM_CURRENT_HOST=algo-1\u001b[0m\n",
      "\u001b[34mSM_MODULE_NAME=scikit_learn_iris\u001b[0m\n",
      "\u001b[34mSM_LOG_LEVEL=20\u001b[0m\n",
      "\u001b[34mSM_FRAMEWORK_MODULE=sagemaker_sklearn_container.training:main\u001b[0m\n",
      "\u001b[34mSM_INPUT_DIR=/opt/ml/input\u001b[0m\n",
      "\u001b[34mSM_INPUT_CONFIG_DIR=/opt/ml/input/config\u001b[0m\n",
      "\u001b[34mSM_OUTPUT_DIR=/opt/ml/output\u001b[0m\n",
      "\u001b[34mSM_NUM_CPUS=4\u001b[0m\n",
      "\u001b[34mSM_NUM_GPUS=0\u001b[0m\n",
      "\u001b[34mSM_MODEL_DIR=/opt/ml/model\u001b[0m\n",
      "\u001b[34mSM_MODULE_DIR=s3://sagemaker-ap-east-1-468208999430/sagemaker-scikit-learn-2022-06-01-05-39-34-084/source/sourcedir.tar.gz\u001b[0m\n",
      "\u001b[34mSM_TRAINING_ENV={\"additional_framework_parameters\":{},\"channel_input_dirs\":{\"test\":\"/opt/ml/input/data/test\",\"train\":\"/opt/ml/input/data/train\"},\"current_host\":\"algo-1\",\"framework_module\":\"sagemaker_sklearn_container.training:main\",\"hosts\":[\"algo-1\"],\"hyperparameters\":{\"max_leaf_nodes\":30},\"input_config_dir\":\"/opt/ml/input/config\",\"input_data_config\":{\"test\":{\"RecordWrapperType\":\"None\",\"S3DistributionType\":\"FullyReplicated\",\"TrainingInputMode\":\"File\"},\"train\":{\"RecordWrapperType\":\"None\",\"S3DistributionType\":\"FullyReplicated\",\"TrainingInputMode\":\"File\"}},\"input_dir\":\"/opt/ml/input\",\"is_master\":true,\"job_name\":\"sagemaker-scikit-learn-2022-06-01-05-39-34-084\",\"log_level\":20,\"master_hostname\":\"algo-1\",\"model_dir\":\"/opt/ml/model\",\"module_dir\":\"s3://sagemaker-ap-east-1-468208999430/sagemaker-scikit-learn-2022-06-01-05-39-34-084/source/sourcedir.tar.gz\",\"module_name\":\"scikit_learn_iris\",\"network_interface_name\":\"eth0\",\"num_cpus\":4,\"num_gpus\":0,\"output_data_dir\":\"/opt/ml/output/data\",\"output_dir\":\"/opt/ml/output\",\"output_intermediate_dir\":\"/opt/ml/output/intermediate\",\"resource_config\":{\"current_group_name\":\"homogeneousCluster\",\"current_host\":\"algo-1\",\"current_instance_type\":\"ml.c5.xlarge\",\"hosts\":[\"algo-1\"],\"instance_groups\":[{\"hosts\":[\"algo-1\"],\"instance_group_name\":\"homogeneousCluster\",\"instance_type\":\"ml.c5.xlarge\"}],\"network_interface_name\":\"eth0\"},\"user_entry_point\":\"scikit_learn_iris.py\"}\u001b[0m\n",
      "\u001b[34mSM_USER_ARGS=[\"--max_leaf_nodes\",\"30\"]\u001b[0m\n",
      "\u001b[34mSM_OUTPUT_INTERMEDIATE_DIR=/opt/ml/output/intermediate\u001b[0m\n",
      "\u001b[34mSM_CHANNEL_TEST=/opt/ml/input/data/test\u001b[0m\n",
      "\u001b[34mSM_CHANNEL_TRAIN=/opt/ml/input/data/train\u001b[0m\n",
      "\u001b[34mSM_HP_MAX_LEAF_NODES=30\u001b[0m\n",
      "\u001b[34mPYTHONPATH=/opt/ml/code:/miniconda3/bin:/miniconda3/lib/python37.zip:/miniconda3/lib/python3.7:/miniconda3/lib/python3.7/lib-dynload:/miniconda3/lib/python3.7/site-packages\u001b[0m\n",
      "\u001b[34mInvoking script with the following command:\u001b[0m\n",
      "\u001b[34m/miniconda3/bin/python scikit_learn_iris.py --max_leaf_nodes 30\u001b[0m\n",
      "\u001b[34m/miniconda3/lib/python3.7/site-packages/sklearn/externals/joblib/externals/cloudpickle/cloudpickle.py:47: DeprecationWarning: the imp module is deprecated in favour of importlib; see the module's documentation for alternative uses\n",
      "  import imp\u001b[0m\n",
      "\u001b[34mModel Accuracy: 0.9333333333333333\u001b[0m\n",
      "\u001b[34m/miniconda3/lib/python3.7/site-packages/sklearn/externals/joblib/numpy_pickle.py:104: DeprecationWarning: tostring() is deprecated. Use tobytes() instead.\n",
      "  pickler.file_handle.write(chunk.tostring('C'))\u001b[0m\n",
      "\u001b[34m/miniconda3/lib/python3.7/site-packages/sklearn/externals/joblib/numpy_pickle.py:104: DeprecationWarning: tostring() is deprecated. Use tobytes() instead.\n",
      "  pickler.file_handle.write(chunk.tostring('C'))\u001b[0m\n",
      "\u001b[34m/miniconda3/lib/python3.7/site-packages/sklearn/externals/joblib/numpy_pickle.py:104: DeprecationWarning: tostring() is deprecated. Use tobytes() instead.\n",
      "  pickler.file_handle.write(chunk.tostring('C'))\u001b[0m\n",
      "\u001b[34m/miniconda3/lib/python3.7/site-packages/sklearn/externals/joblib/numpy_pickle.py:104: DeprecationWarning: tostring() is deprecated. Use tobytes() instead.\n",
      "  pickler.file_handle.write(chunk.tostring('C'))\u001b[0m\n",
      "\u001b[34m2022-06-01 05:41:38,975 sagemaker-containers INFO     Reporting training SUCCESS\u001b[0m\n",
      "\n",
      "2022-06-01 05:42:00 Uploading - Uploading generated training model\n",
      "2022-06-01 05:42:00 Completed - Training job completed\n",
      "Training seconds: 62\n",
      "Billable seconds: 62\n"
     ]
    }
   ],
   "source": [
    "sklearn_estimator.fit({\"train\": s3_input_train, \"test\": s3_input_validation})"
   ]
  },
  {
   "cell_type": "markdown",
   "metadata": {},
   "source": [
    "## Deploy an Endpoint "
   ]
  },
  {
   "cell_type": "markdown",
   "metadata": {},
   "source": [
    "Now that we've trained the algorithm on our data, let's deploy a model that's hosted behind a real-time endpoint."
   ]
  },
  {
   "cell_type": "code",
   "execution_count": null,
   "metadata": {},
   "outputs": [],
   "source": [
    "predictor = sklearn_estimator.deploy(initial_instance_count=1, instance_type=\"ml.m5.xlarge\")"
   ]
  },
  {
   "cell_type": "code",
   "execution_count": 94,
   "metadata": {},
   "outputs": [],
   "source": [
    "print(\"Predictions: {}\".format(predictor.predict(test_X.values)))\n",
    "print(\"Actual: {}\".format(test_y.values))"
   ]
  },
  {
   "cell_type": "code",
   "execution_count": 32,
   "metadata": {},
   "outputs": [],
   "source": [
    "predictor.delete_endpoint(delete_endpoint_config=True)"
   ]
  },
  {
   "cell_type": "markdown",
   "metadata": {},
   "source": [
    "## Deploy an Endpoint from Model Data (Optional)"
   ]
  },
  {
   "cell_type": "code",
   "execution_count": 87,
   "metadata": {},
   "outputs": [
    {
     "name": "stdout",
     "output_type": "stream",
     "text": [
      "model.joblib\n"
     ]
    }
   ],
   "source": [
    "# Download the trained model data from S3\n",
    "from sagemaker.s3 import S3Downloader\n",
    "\n",
    "s3_model_path = sklearn_estimator.model_data\n",
    "\n",
    "S3Downloader.download(s3_uri=s3_model_path,\n",
    "                          local_path='./',\n",
    "                          sagemaker_session=sess)\n",
    "\n",
    "#or\n",
    "\n",
    "#import boto3\n",
    "\n",
    "#s3_client = boto3.client('s3')\n",
    "#training_job_name = sklearn_estimator.latest_training_job.name\n",
    "\n",
    "#with open('model.tar.gz', 'wb') as data:\n",
    "#    s3_client.download_fileobj(Bucket=bucket, Key=f'{training_job_name}/output/model.tar.gz', Fileobj=data)\n",
    "\n",
    "!tar -zxvf model.tar.gz"
   ]
  },
  {
   "attachments": {},
   "cell_type": "markdown",
   "metadata": {},
   "source": [
    "### Model Directory Structure\n",
    "\n",
    "The contents of model.tar.gz should be organized as follows:\n",
    "\n",
    "- Model files in the top-level directory\n",
    "- Inference script (and any other source files) in a directory named code/ (for more about the inference script, see The SageMaker Scikit-learn Model Server)\n",
    "- Optional requirements file located at code/requirements.txt (for more about requirements files, see Using third-party libraries)\n",
    "\n",
    "<b>model.tar.gz</b>\n",
    "- model.joblib\n",
    "- code\n",
    "     - inference.py\n",
    "     - requirements.txt\n",
    "\n",
    "### Inference Script function definition \n",
    "- <b>model_fn:</b> Load the model file in model directory (eg. /opt/ml/model/model.pth).\n",
    "- <b>input_fn:</b> Deserialize the Invoke request body into an object we can perform prediction on.\n",
    "- <b>predict_fn:</b> Perform prediction on the deserialized object, with the loaded model.\n",
    "- <b>output_fn:</b> Serialize the prediction result into the desired response content type.\n",
    "\n",
    "https://sagemaker.readthedocs.io/en/stable/frameworks/sklearn/using_sklearn.html#load-a-model"
   ]
  },
  {
   "cell_type": "code",
   "execution_count": 90,
   "metadata": {},
   "outputs": [
    {
     "name": "stdout",
     "output_type": "stream",
     "text": [
      "mkdir: cannot create directory ‘code’: File exists\n",
      "model.joblib\n",
      "code/\n",
      "code/inference.py\n"
     ]
    }
   ],
   "source": [
    "# Package model data and inference script to model.tar.gz\n",
    "!mkdir code\n",
    "!cp inference.py code/\n",
    "!tar -czvf sklearn-model.tar.gz model.joblib code\n",
    "model_path = sess.upload_data(path='sklearn-model.tar.gz', key_prefix=f'{prefix}/models')"
   ]
  },
  {
   "cell_type": "code",
   "execution_count": 93,
   "metadata": {},
   "outputs": [
    {
     "name": "stdout",
     "output_type": "stream",
     "text": [
      "----!"
     ]
    }
   ],
   "source": [
    "from sagemaker.sklearn.model import SKLearnModel\n",
    "\n",
    "model = SKLearnModel(model_data=model_path,\n",
    "                     framework_version='0.20.0',\n",
    "                     py_version='py3',\n",
    "                     role=role,\n",
    "                     sagemaker_session=sess,\n",
    "                     entry_point='code/inference.py',\n",
    "                    )\n",
    "predictor = model.deploy(initial_instance_count=1, instance_type=\"ml.m5.xlarge\")"
   ]
  },
  {
   "cell_type": "code",
   "execution_count": null,
   "metadata": {},
   "outputs": [],
   "source": [
    "print(\"Predictions: {}\".format(predictor.predict(test_X.values)))\n",
    "print(\"Actual: {}\".format(test_y.values))"
   ]
  },
  {
   "cell_type": "code",
   "execution_count": null,
   "metadata": {},
   "outputs": [],
   "source": [
    "predictor.delete_endpoint(delete_endpoint_config=True)"
   ]
  },
  {
   "cell_type": "markdown",
   "metadata": {},
   "source": [
    "## Batch Transform"
   ]
  },
  {
   "cell_type": "code",
   "execution_count": 20,
   "metadata": {},
   "outputs": [],
   "source": [
    "# Define a SKLearn Transformer from the trained SKLearn Estimator\n",
    "transformer = sklearn_estimator.transformer(instance_count=2, instance_type='ml.m5.xlarge')"
   ]
  },
  {
   "cell_type": "code",
   "execution_count": 25,
   "metadata": {},
   "outputs": [
    {
     "name": "stdout",
     "output_type": "stream",
     "text": [
      ".......................\u001b[34mProcessing /opt/ml/code\n",
      "  DEPRECATION: A future pip version will change local packages to be built in-place without first copying to a temporary directory. We recommend you use --use-feature=in-tree-build to test your packages with this new behavior before it becomes the default.\n",
      "   pip 21.3 will remove support for this functionality. You can find discussion regarding this at https://github.com/pypa/pip/issues/7555.\u001b[0m\n",
      "\u001b[34mBuilding wheels for collected packages: scikit-learn-iris\n",
      "  Building wheel for scikit-learn-iris (setup.py): started\n",
      "  Building wheel for scikit-learn-iris (setup.py): finished with status 'done'\n",
      "  Created wheel for scikit-learn-iris: filename=scikit_learn_iris-1.0.0-py2.py3-none-any.whl size=5142 sha256=12f35d26b3bd9189499788bf1ee661b32eb30abca93bbcb5fcd3dc5149f4387a\n",
      "  Stored in directory: /tmp/pip-ephem-wheel-cache-ohskq4a3/wheels/3e/0f/51/2f1df833dd0412c1bc2f5ee56baac195b5be563353d111dca6\u001b[0m\n",
      "\u001b[34mSuccessfully built scikit-learn-iris\u001b[0m\n",
      "\u001b[34mInstalling collected packages: scikit-learn-iris\u001b[0m\n",
      "\u001b[34mSuccessfully installed scikit-learn-iris-1.0.0\u001b[0m\n",
      "\u001b[34mWARNING: Running pip as the 'root' user can result in broken permissions and conflicting behaviour with the system package manager. It is recommended to use a virtual environment instead: https://pip.pypa.io/warnings/venv\u001b[0m\n",
      "\u001b[34m/miniconda3/lib/python3.7/site-packages/sklearn/externals/joblib/externals/cloudpickle/cloudpickle.py:47: DeprecationWarning: the imp module is deprecated in favour of importlib; see the module's documentation for alternative uses\n",
      "  import imp\u001b[0m\n",
      "\u001b[34m[2022-05-31 07:46:48 +0000] [37] [INFO] Starting gunicorn 20.1.0\u001b[0m\n",
      "\u001b[34m[2022-05-31 07:46:48 +0000] [37] [INFO] Listening at: unix:/tmp/gunicorn.sock (37)\u001b[0m\n",
      "\u001b[34m[2022-05-31 07:46:48 +0000] [37] [INFO] Using worker: gevent\u001b[0m\n",
      "\u001b[34m[2022-05-31 07:46:48 +0000] [40] [INFO] Booting worker with pid: 40\u001b[0m\n",
      "\u001b[34m[2022-05-31 07:46:48 +0000] [41] [INFO] Booting worker with pid: 41\u001b[0m\n",
      "\u001b[34m[2022-05-31 07:46:48 +0000] [45] [INFO] Booting worker with pid: 45\u001b[0m\n",
      "\u001b[34m[2022-05-31 07:46:48 +0000] [46] [INFO] Booting worker with pid: 46\u001b[0m\n",
      "\u001b[35mProcessing /opt/ml/code\n",
      "  DEPRECATION: A future pip version will change local packages to be built in-place without first copying to a temporary directory. We recommend you use --use-feature=in-tree-build to test your packages with this new behavior before it becomes the default.\n",
      "   pip 21.3 will remove support for this functionality. You can find discussion regarding this at https://github.com/pypa/pip/issues/7555.\u001b[0m\n",
      "\u001b[35mBuilding wheels for collected packages: scikit-learn-iris\n",
      "  Building wheel for scikit-learn-iris (setup.py): started\n",
      "  Building wheel for scikit-learn-iris (setup.py): finished with status 'done'\n",
      "  Created wheel for scikit-learn-iris: filename=scikit_learn_iris-1.0.0-py2.py3-none-any.whl size=5142 sha256=12f35d26b3bd9189499788bf1ee661b32eb30abca93bbcb5fcd3dc5149f4387a\n",
      "  Stored in directory: /tmp/pip-ephem-wheel-cache-9pkz4hq1/wheels/3e/0f/51/2f1df833dd0412c1bc2f5ee56baac195b5be563353d111dca6\u001b[0m\n",
      "\u001b[35mSuccessfully built scikit-learn-iris\u001b[0m\n",
      "\u001b[35mInstalling collected packages: scikit-learn-iris\u001b[0m\n",
      "\u001b[35mSuccessfully installed scikit-learn-iris-1.0.0\u001b[0m\n",
      "\u001b[35mWARNING: Running pip as the 'root' user can result in broken permissions and conflicting behaviour with the system package manager. It is recommended to use a virtual environment instead: https://pip.pypa.io/warnings/venv\u001b[0m\n",
      "\u001b[35m/miniconda3/lib/python3.7/site-packages/sklearn/externals/joblib/externals/cloudpickle/cloudpickle.py:47: DeprecationWarning: the imp module is deprecated in favour of importlib; see the module's documentation for alternative uses\n",
      "  import imp\u001b[0m\n",
      "\u001b[35m[2022-05-31 07:46:49 +0000] [38] [INFO] Starting gunicorn 20.1.0\u001b[0m\n",
      "\u001b[35m[2022-05-31 07:46:49 +0000] [38] [INFO] Listening at: unix:/tmp/gunicorn.sock (38)\u001b[0m\n",
      "\u001b[35m[2022-05-31 07:46:49 +0000] [38] [INFO] Using worker: gevent\u001b[0m\n",
      "\u001b[35m[2022-05-31 07:46:49 +0000] [41] [INFO] Booting worker with pid: 41\u001b[0m\n",
      "\u001b[35m[2022-05-31 07:46:49 +0000] [42] [INFO] Booting worker with pid: 42\u001b[0m\n",
      "\u001b[35m[2022-05-31 07:46:49 +0000] [46] [INFO] Booting worker with pid: 46\u001b[0m\n",
      "\u001b[35m[2022-05-31 07:46:49 +0000] [50] [INFO] Booting worker with pid: 50\u001b[0m\n",
      "\u001b[35m2022-05-31 07:46:52,012 INFO - sagemaker-containers - No GPUs detected (normal if no gpus installed)\u001b[0m\n",
      "\u001b[35m/miniconda3/lib/python3.7/site-packages/sklearn/externals/joblib/externals/cloudpickle/cloudpickle.py:47: DeprecationWarning: the imp module is deprecated in favour of importlib; see the module's documentation for alternative uses\n",
      "  import imp\u001b[0m\n",
      "\u001b[35m169.254.255.130 - - [31/May/2022:07:46:52 +0000] \"GET /ping HTTP/1.1\" 200 0 \"-\" \"Go-http-client/1.1\"\u001b[0m\n",
      "\u001b[35m169.254.255.130 - - [31/May/2022:07:46:52 +0000] \"GET /execution-parameters HTTP/1.1\" 404 232 \"-\" \"Go-http-client/1.1\"\u001b[0m\n",
      "\u001b[35m169.254.255.130 - - [31/May/2022:07:46:52 +0000] \"POST /invocations HTTP/1.1\" 200 145 \"-\" \"Go-http-client/1.1\"\u001b[0m\n",
      "\n",
      "\u001b[34m2022-05-31 07:46:52,821 INFO - sagemaker-containers - No GPUs detected (normal if no gpus installed)\u001b[0m\n",
      "\u001b[34m/miniconda3/lib/python3.7/site-packages/sklearn/externals/joblib/externals/cloudpickle/cloudpickle.py:47: DeprecationWarning: the imp module is deprecated in favour of importlib; see the module's documentation for alternative uses\n",
      "  import imp\u001b[0m\n",
      "\u001b[32m2022-05-31 07:46:52,821 INFO - sagemaker-containers - No GPUs detected (normal if no gpus installed)\u001b[0m\n",
      "\u001b[32m/miniconda3/lib/python3.7/site-packages/sklearn/externals/joblib/externals/cloudpickle/cloudpickle.py:47: DeprecationWarning: the imp module is deprecated in favour of importlib; see the module's documentation for alternative uses\n",
      "  import imp\u001b[0m\n",
      "\u001b[34m169.254.255.130 - - [31/May/2022:07:46:53 +0000] \"GET /ping HTTP/1.1\" 200 0 \"-\" \"Go-http-client/1.1\"\u001b[0m\n",
      "\u001b[34m169.254.255.130 - - [31/May/2022:07:46:53 +0000] \"GET /execution-parameters HTTP/1.1\" 404 232 \"-\" \"Go-http-client/1.1\"\u001b[0m\n",
      "\u001b[32m169.254.255.130 - - [31/May/2022:07:46:53 +0000] \"GET /ping HTTP/1.1\" 200 0 \"-\" \"Go-http-client/1.1\"\u001b[0m\n",
      "\u001b[32m169.254.255.130 - - [31/May/2022:07:46:53 +0000] \"GET /execution-parameters HTTP/1.1\" 404 232 \"-\" \"Go-http-client/1.1\"\u001b[0m\n",
      "\u001b[34m2022-05-31T07:46:52.524:[sagemaker logs]: MaxConcurrentTransforms=1, MaxPayloadInMB=6, BatchStrategy=MULTI_RECORD\u001b[0m\n",
      "\u001b[35m2022-05-31T07:46:53.364:[sagemaker logs]: MaxConcurrentTransforms=1, MaxPayloadInMB=6, BatchStrategy=MULTI_RECORD\u001b[0m\n",
      "\u001b[36m2022-05-31T07:46:53.364:[sagemaker logs]: MaxConcurrentTransforms=1, MaxPayloadInMB=6, BatchStrategy=MULTI_RECORD\u001b[0m\n",
      "Waiting for transform job: sagemaker-scikit-learn-2022-05-31-07-43-06-362\n",
      "\u001b[34mProcessing /opt/ml/code\n",
      "  DEPRECATION: A future pip version will change local packages to be built in-place without first copying to a temporary directory. We recommend you use --use-feature=in-tree-build to test your packages with this new behavior before it becomes the default.\n",
      "   pip 21.3 will remove support for this functionality. You can find discussion regarding this at https://github.com/pypa/pip/issues/7555.\u001b[0m\n",
      "\u001b[32mProcessing /opt/ml/code\n",
      "  DEPRECATION: A future pip version will change local packages to be built in-place without first copying to a temporary directory. We recommend you use --use-feature=in-tree-build to test your packages with this new behavior before it becomes the default.\n",
      "   pip 21.3 will remove support for this functionality. You can find discussion regarding this at https://github.com/pypa/pip/issues/7555.\u001b[0m\n",
      "\u001b[34mBuilding wheels for collected packages: scikit-learn-iris\n",
      "  Building wheel for scikit-learn-iris (setup.py): started\n",
      "  Building wheel for scikit-learn-iris (setup.py): finished with status 'done'\n",
      "  Created wheel for scikit-learn-iris: filename=scikit_learn_iris-1.0.0-py2.py3-none-any.whl size=5142 sha256=12f35d26b3bd9189499788bf1ee661b32eb30abca93bbcb5fcd3dc5149f4387a\n",
      "  Stored in directory: /tmp/pip-ephem-wheel-cache-ohskq4a3/wheels/3e/0f/51/2f1df833dd0412c1bc2f5ee56baac195b5be563353d111dca6\u001b[0m\n",
      "\u001b[34mSuccessfully built scikit-learn-iris\u001b[0m\n",
      "\u001b[34mInstalling collected packages: scikit-learn-iris\u001b[0m\n",
      "\u001b[34mSuccessfully installed scikit-learn-iris-1.0.0\u001b[0m\n",
      "\u001b[34mWARNING: Running pip as the 'root' user can result in broken permissions and conflicting behaviour with the system package manager. It is recommended to use a virtual environment instead: https://pip.pypa.io/warnings/venv\u001b[0m\n",
      "\u001b[34m/miniconda3/lib/python3.7/site-packages/sklearn/externals/joblib/externals/cloudpickle/cloudpickle.py:47: DeprecationWarning: the imp module is deprecated in favour of importlib; see the module's documentation for alternative uses\n",
      "  import imp\u001b[0m\n",
      "\u001b[34m[2022-05-31 07:46:48 +0000] [37] [INFO] Starting gunicorn 20.1.0\u001b[0m\n",
      "\u001b[34m[2022-05-31 07:46:48 +0000] [37] [INFO] Listening at: unix:/tmp/gunicorn.sock (37)\u001b[0m\n",
      "\u001b[34m[2022-05-31 07:46:48 +0000] [37] [INFO] Using worker: gevent\u001b[0m\n",
      "\u001b[34m[2022-05-31 07:46:48 +0000] [40] [INFO] Booting worker with pid: 40\u001b[0m\n",
      "\u001b[32mBuilding wheels for collected packages: scikit-learn-iris\n",
      "  Building wheel for scikit-learn-iris (setup.py): started\n",
      "  Building wheel for scikit-learn-iris (setup.py): finished with status 'done'\n",
      "  Created wheel for scikit-learn-iris: filename=scikit_learn_iris-1.0.0-py2.py3-none-any.whl size=5142 sha256=12f35d26b3bd9189499788bf1ee661b32eb30abca93bbcb5fcd3dc5149f4387a\n",
      "  Stored in directory: /tmp/pip-ephem-wheel-cache-ohskq4a3/wheels/3e/0f/51/2f1df833dd0412c1bc2f5ee56baac195b5be563353d111dca6\u001b[0m\n",
      "\u001b[32mSuccessfully built scikit-learn-iris\u001b[0m\n",
      "\u001b[32mInstalling collected packages: scikit-learn-iris\u001b[0m\n",
      "\u001b[32mSuccessfully installed scikit-learn-iris-1.0.0\u001b[0m\n",
      "\u001b[32mWARNING: Running pip as the 'root' user can result in broken permissions and conflicting behaviour with the system package manager. It is recommended to use a virtual environment instead: https://pip.pypa.io/warnings/venv\u001b[0m\n",
      "\u001b[32m/miniconda3/lib/python3.7/site-packages/sklearn/externals/joblib/externals/cloudpickle/cloudpickle.py:47: DeprecationWarning: the imp module is deprecated in favour of importlib; see the module's documentation for alternative uses\n",
      "  import imp\u001b[0m\n",
      "\u001b[32m[2022-05-31 07:46:48 +0000] [37] [INFO] Starting gunicorn 20.1.0\u001b[0m\n",
      "\u001b[32m[2022-05-31 07:46:48 +0000] [37] [INFO] Listening at: unix:/tmp/gunicorn.sock (37)\u001b[0m\n",
      "\u001b[32m[2022-05-31 07:46:48 +0000] [37] [INFO] Using worker: gevent\u001b[0m\n",
      "\u001b[32m[2022-05-31 07:46:48 +0000] [40] [INFO] Booting worker with pid: 40\u001b[0m\n",
      "\u001b[34m[2022-05-31 07:46:48 +0000] [41] [INFO] Booting worker with pid: 41\u001b[0m\n",
      "\u001b[34m[2022-05-31 07:46:48 +0000] [45] [INFO] Booting worker with pid: 45\u001b[0m\n",
      "\u001b[34m[2022-05-31 07:46:48 +0000] [46] [INFO] Booting worker with pid: 46\u001b[0m\n",
      "\u001b[32m[2022-05-31 07:46:48 +0000] [41] [INFO] Booting worker with pid: 41\u001b[0m\n",
      "\u001b[32m[2022-05-31 07:46:48 +0000] [45] [INFO] Booting worker with pid: 45\u001b[0m\n",
      "\u001b[32m[2022-05-31 07:46:48 +0000] [46] [INFO] Booting worker with pid: 46\u001b[0m\n",
      "\u001b[33mProcessing /opt/ml/code\n",
      "  DEPRECATION: A future pip version will change local packages to be built in-place without first copying to a temporary directory. We recommend you use --use-feature=in-tree-build to test your packages with this new behavior before it becomes the default.\n",
      "   pip 21.3 will remove support for this functionality. You can find discussion regarding this at https://github.com/pypa/pip/issues/7555.\u001b[0m\n",
      "\u001b[33mBuilding wheels for collected packages: scikit-learn-iris\n",
      "  Building wheel for scikit-learn-iris (setup.py): started\n",
      "  Building wheel for scikit-learn-iris (setup.py): finished with status 'done'\n",
      "  Created wheel for scikit-learn-iris: filename=scikit_learn_iris-1.0.0-py2.py3-none-any.whl size=5142 sha256=12f35d26b3bd9189499788bf1ee661b32eb30abca93bbcb5fcd3dc5149f4387a\n",
      "  Stored in directory: /tmp/pip-ephem-wheel-cache-9pkz4hq1/wheels/3e/0f/51/2f1df833dd0412c1bc2f5ee56baac195b5be563353d111dca6\u001b[0m\n",
      "\u001b[33mSuccessfully built scikit-learn-iris\u001b[0m\n",
      "\u001b[33mInstalling collected packages: scikit-learn-iris\u001b[0m\n",
      "\u001b[33mSuccessfully installed scikit-learn-iris-1.0.0\u001b[0m\n",
      "\u001b[33mWARNING: Running pip as the 'root' user can result in broken permissions and conflicting behaviour with the system package manager. It is recommended to use a virtual environment instead: https://pip.pypa.io/warnings/venv\u001b[0m\n",
      "\u001b[33m/miniconda3/lib/python3.7/site-packages/sklearn/externals/joblib/externals/cloudpickle/cloudpickle.py:47: DeprecationWarning: the imp module is deprecated in favour of importlib; see the module's documentation for alternative uses\n",
      "  import imp\u001b[0m\n",
      "\u001b[33m[2022-05-31 07:46:49 +0000] [38] [INFO] Starting gunicorn 20.1.0\u001b[0m\n",
      "\u001b[33m[2022-05-31 07:46:49 +0000] [38] [INFO] Listening at: unix:/tmp/gunicorn.sock (38)\u001b[0m\n",
      "\u001b[33m[2022-05-31 07:46:49 +0000] [38] [INFO] Using worker: gevent\u001b[0m\n",
      "\u001b[33m[2022-05-31 07:46:49 +0000] [41] [INFO] Booting worker with pid: 41\u001b[0m\n",
      "\u001b[33m[2022-05-31 07:46:49 +0000] [42] [INFO] Booting worker with pid: 42\u001b[0m\n",
      "\u001b[33m[2022-05-31 07:46:49 +0000] [46] [INFO] Booting worker with pid: 46\u001b[0m\n",
      "\u001b[33m[2022-05-31 07:46:49 +0000] [50] [INFO] Booting worker with pid: 50\u001b[0m\n",
      "\u001b[33m2022-05-31 07:46:52,012 INFO - sagemaker-containers - No GPUs detected (normal if no gpus installed)\u001b[0m\n",
      "\u001b[33m/miniconda3/lib/python3.7/site-packages/sklearn/externals/joblib/externals/cloudpickle/cloudpickle.py:47: DeprecationWarning: the imp module is deprecated in favour of importlib; see the module's documentation for alternative uses\n",
      "  import imp\u001b[0m\n",
      "\u001b[33m169.254.255.130 - - [31/May/2022:07:46:52 +0000] \"GET /ping HTTP/1.1\" 200 0 \"-\" \"Go-http-client/1.1\"\u001b[0m\n",
      "\u001b[33m169.254.255.130 - - [31/May/2022:07:46:52 +0000] \"GET /execution-parameters HTTP/1.1\" 404 232 \"-\" \"Go-http-client/1.1\"\u001b[0m\n",
      "\u001b[33m169.254.255.130 - - [31/May/2022:07:46:52 +0000] \"POST /invocations HTTP/1.1\" 200 145 \"-\" \"Go-http-client/1.1\"\u001b[0m\n",
      "\u001b[34m2022-05-31 07:46:52,821 INFO - sagemaker-containers - No GPUs detected (normal if no gpus installed)\u001b[0m\n",
      "\u001b[34m/miniconda3/lib/python3.7/site-packages/sklearn/externals/joblib/externals/cloudpickle/cloudpickle.py:47: DeprecationWarning: the imp module is deprecated in favour of importlib; see the module's documentation for alternative uses\n",
      "  import imp\u001b[0m\n",
      "\u001b[32m2022-05-31 07:46:52,821 INFO - sagemaker-containers - No GPUs detected (normal if no gpus installed)\u001b[0m\n",
      "\u001b[32m/miniconda3/lib/python3.7/site-packages/sklearn/externals/joblib/externals/cloudpickle/cloudpickle.py:47: DeprecationWarning: the imp module is deprecated in favour of importlib; see the module's documentation for alternative uses\n",
      "  import imp\u001b[0m\n",
      "\u001b[34m169.254.255.130 - - [31/May/2022:07:46:53 +0000] \"GET /ping HTTP/1.1\" 200 0 \"-\" \"Go-http-client/1.1\"\u001b[0m\n",
      "\u001b[34m169.254.255.130 - - [31/May/2022:07:46:53 +0000] \"GET /execution-parameters HTTP/1.1\" 404 232 \"-\" \"Go-http-client/1.1\"\u001b[0m\n",
      "\u001b[32m169.254.255.130 - - [31/May/2022:07:46:53 +0000] \"GET /ping HTTP/1.1\" 200 0 \"-\" \"Go-http-client/1.1\"\u001b[0m\n",
      "\u001b[32m169.254.255.130 - - [31/May/2022:07:46:53 +0000] \"GET /execution-parameters HTTP/1.1\" 404 232 \"-\" \"Go-http-client/1.1\"\u001b[0m\n",
      "\u001b[34m2022-05-31T07:46:52.524:[sagemaker logs]: MaxConcurrentTransforms=1, MaxPayloadInMB=6, BatchStrategy=MULTI_RECORD\u001b[0m\n",
      "\u001b[35m2022-05-31T07:46:53.364:[sagemaker logs]: MaxConcurrentTransforms=1, MaxPayloadInMB=6, BatchStrategy=MULTI_RECORD\u001b[0m\n",
      "\u001b[36m2022-05-31T07:46:53.364:[sagemaker logs]: MaxConcurrentTransforms=1, MaxPayloadInMB=6, BatchStrategy=MULTI_RECORD\u001b[0m\n"
     ]
    }
   ],
   "source": [
    "# Start a transform job and wait for it to finish\n",
    "transformer.transform(s3_input_test, content_type='text/csv')\n",
    "print('Waiting for transform job: ' + transformer.latest_transform_job.job_name)\n",
    "transformer.wait()"
   ]
  },
  {
   "cell_type": "code",
   "execution_count": 28,
   "metadata": {},
   "outputs": [
    {
     "name": "stdout",
     "output_type": "stream",
     "text": [
      "download: s3://sagemaker-ap-east-1-468208999430/sagemaker-scikit-learn-2022-05-31-07-43-06-362/iris.csv.out to batch_data/iris.csv.out\n"
     ]
    }
   ],
   "source": [
    "# Download the output data from S3 to local filesystem\n",
    "batch_output = transformer.output_path\n",
    "!aws s3 cp --recursive $batch_output/ batch_data/"
   ]
  },
  {
   "cell_type": "markdown",
   "metadata": {},
   "source": [
    "## Automatic model Tuning (optional)"
   ]
  },
  {
   "cell_type": "code",
   "execution_count": null,
   "metadata": {},
   "outputs": [],
   "source": [
    "from sagemaker.tuner import IntegerParameter, CategoricalParameter, ContinuousParameter, HyperparameterTuner\n",
    "\n",
    "hyperparameter_ranges = {\"n-max_leaf_nodes\": IntegerParameter(5, 100)}\n",
    "objective_metric_name = 'model_accuracy'\n",
    "\n",
    "tuner = HyperparameterTuner(sklearn_estimator,\n",
    "                            objective_metric_name,\n",
    "                            hyperparameter_ranges,\n",
    "                            metric_definitions=[{\"Name\": \"model_accuracy\", \n",
    "                                                 \"Regex\": \"Model Accuracy: ([0-9.]+).*$\"}],\n",
    "                            objective_type='Maximize',\n",
    "                            max_jobs=9,\n",
    "                            max_parallel_jobs=3)\n",
    "\n",
    "tuner.fit({'train': s3_input_train, 'test': s3_input_validation}, wait=False) #wait=False to set async training job"
   ]
  },
  {
   "cell_type": "code",
   "execution_count": null,
   "metadata": {},
   "outputs": [],
   "source": [
    "# Wait for the Hyperparameter Tuning Job to be completed\n",
    "\n",
    "tuner.wait()\n",
    "\n",
    "#or\n",
    "\n",
    "#tuner.logs()\n",
    "\n",
    "#or\n",
    "\n",
    "#tuning_job_name = sklearn_estimator.latest_training_job.name\n",
    "#sess.wait_for_tuning_job(tuner.latest_tuning_job.name)"
   ]
  },
  {
   "cell_type": "code",
   "execution_count": null,
   "metadata": {},
   "outputs": [],
   "source": [
    "# return the best training job name\n",
    "tuner.best_training_job()"
   ]
  },
  {
   "cell_type": "code",
   "execution_count": null,
   "metadata": {},
   "outputs": [],
   "source": [
    "# Deploy the best trained or user specified model to an Amazon SageMaker endpoint\n",
    "tuner_predictor = tuner.deploy(initial_instance_count=1, instance_type='ml.m5.xlarge')"
   ]
  },
  {
   "cell_type": "code",
   "execution_count": null,
   "metadata": {},
   "outputs": [],
   "source": [
    "# Deploy the best one and predict\n",
    "print(\"Predictions: {}\".format(tuner_predictor.predict(test_X.values)))\n",
    "print(\"Actual: {}\".format(test_y.values))"
   ]
  },
  {
   "cell_type": "code",
   "execution_count": null,
   "metadata": {},
   "outputs": [],
   "source": [
    "tuner_predictor.delete_endpoint(delete_endpoint_config=True)"
   ]
  }
 ],
 "metadata": {
  "instance_type": "ml.t3.large",
  "kernelspec": {
   "display_name": "Python 3 (ipykernel)",
   "language": "python",
   "name": "python3"
  },
  "language_info": {
   "codemirror_mode": {
    "name": "ipython",
    "version": 3
   },
   "file_extension": ".py",
   "mimetype": "text/x-python",
   "name": "python",
   "nbconvert_exporter": "python",
   "pygments_lexer": "ipython3",
   "version": "3.9.12"
  }
 },
 "nbformat": 4,
 "nbformat_minor": 4
}
